{
  "nbformat": 4,
  "nbformat_minor": 0,
  "metadata": {
    "colab": {
      "name": "19 - 04 - 2022",
      "provenance": [],
      "authorship_tag": "ABX9TyMZyCvIy6yvJsZAG73WY4Eq",
      "include_colab_link": true
    },
    "kernelspec": {
      "name": "python3",
      "display_name": "Python 3"
    },
    "language_info": {
      "name": "python"
    }
  },
  "cells": [
    {
      "cell_type": "markdown",
      "metadata": {
        "id": "view-in-github",
        "colab_type": "text"
      },
      "source": [
        "<a href=\"https://colab.research.google.com/github/Amit-cyber-alt/Python/blob/main/19_04_2022.ipynb\" target=\"_parent\"><img src=\"https://colab.research.google.com/assets/colab-badge.svg\" alt=\"Open In Colab\"/></a>"
      ]
    },
    {
      "cell_type": "code",
      "execution_count": 1,
      "metadata": {
        "colab": {
          "base_uri": "https://localhost:8080/",
          "height": 0
        },
        "id": "jVXj59a3fBNv",
        "outputId": "2ecd6529-2d85-478e-84c0-d9b09147fd48"
      },
      "outputs": [
        {
          "output_type": "stream",
          "name": "stdout",
          "text": [
            "16\n",
            "4.0\n"
          ]
        }
      ],
      "source": [
        "#to find square root\n",
        "x = int(input())\n",
        "sr = (x)**(0.5)\n",
        "print(sr)"
      ]
    },
    {
      "cell_type": "code",
      "source": [
        "#to find area of triangle\n",
        "base = int(input())\n",
        "height = int(input())\n",
        "area = 0.5*base*height\n",
        "print(area)"
      ],
      "metadata": {
        "colab": {
          "base_uri": "https://localhost:8080/",
          "height": 0
        },
        "id": "eeIB6OHQgImC",
        "outputId": "49d22a91-f7c2-413a-f6f1-6a19ff7f968b"
      },
      "execution_count": 2,
      "outputs": [
        {
          "output_type": "stream",
          "name": "stdout",
          "text": [
            "44\n",
            "12\n",
            "264.0\n"
          ]
        }
      ]
    },
    {
      "cell_type": "code",
      "source": [
        "#to find largest among three numbers\n",
        "a = int(input())\n",
        "b = int(input())\n",
        "c = int(input())\n",
        "if a>b and a>c:\n",
        "  print(a, \"is maximum\")\n",
        "elif b>a and b>c:\n",
        "  print(b ,\"is maximum\")\n",
        "else:\n",
        "  print(c, \"is maximum\")\n"
      ],
      "metadata": {
        "colab": {
          "base_uri": "https://localhost:8080/",
          "height": 0
        },
        "id": "3iuPfH9UhDza",
        "outputId": "7cc9a07f-6d58-45b5-dadb-c88f5e3bac62"
      },
      "execution_count": 5,
      "outputs": [
        {
          "output_type": "stream",
          "name": "stdout",
          "text": [
            "15\n",
            "25\n",
            "20\n",
            "25 is maximum\n"
          ]
        }
      ]
    },
    {
      "cell_type": "code",
      "source": [
        "#fibonacci series\n",
        "n = int(input(\"Enter range of series : \"))\n",
        "a = 0\n",
        "b = 1\n",
        "for i in range(2,n):\n",
        "  c = a+b\n",
        "  a = b\n",
        "  b = c\n",
        "print(c)\n"
      ],
      "metadata": {
        "colab": {
          "base_uri": "https://localhost:8080/",
          "height": 0
        },
        "id": "QoLV9mbykFco",
        "outputId": "208b2a56-5535-4ea9-d41e-b3c99e5291de"
      },
      "execution_count": 9,
      "outputs": [
        {
          "output_type": "stream",
          "name": "stdout",
          "text": [
            "Enter range of series : 7\n",
            "8\n"
          ]
        }
      ]
    },
    {
      "cell_type": "code",
      "source": [
        "#armstrong number in an interval\n",
        "l = int(input())\n",
        "u = int(input())\n",
        "for i in range(l,u+1):\n",
        "   a = len(str(i))\n",
        "   sum = 0\n",
        "   temp = i\n",
        "   while temp > 0:\n",
        "       digit = temp % 10\n",
        "       sum += digit ** a\n",
        "       temp //= 10\n",
        "\n",
        "   if i == sum:\n",
        "       print(i)\n"
      ],
      "metadata": {
        "colab": {
          "base_uri": "https://localhost:8080/",
          "height": 0
        },
        "id": "lsDG27gxljBw",
        "outputId": "1c5f0cfc-4598-4972-d3de-74fd28e3cc7c"
      },
      "execution_count": 10,
      "outputs": [
        {
          "output_type": "stream",
          "name": "stdout",
          "text": [
            "21\n",
            "2001\n",
            "153\n",
            "370\n",
            "371\n",
            "407\n",
            "1634\n"
          ]
        }
      ]
    }
  ]
}