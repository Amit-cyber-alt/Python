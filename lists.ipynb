{
  "nbformat": 4,
  "nbformat_minor": 0,
  "metadata": {
    "colab": {
      "name": "lists",
      "provenance": [],
      "authorship_tag": "ABX9TyMzaPK8ZudN1D+Msl+OIap0",
      "include_colab_link": true
    },
    "kernelspec": {
      "name": "python3",
      "display_name": "Python 3"
    },
    "language_info": {
      "name": "python"
    }
  },
  "cells": [
    {
      "cell_type": "markdown",
      "metadata": {
        "id": "view-in-github",
        "colab_type": "text"
      },
      "source": [
        "<a href=\"https://colab.research.google.com/github/Amit-cyber-alt/Python/blob/main/lists.ipynb\" target=\"_parent\"><img src=\"https://colab.research.google.com/assets/colab-badge.svg\" alt=\"Open In Colab\"/></a>"
      ]
    },
    {
      "cell_type": "code",
      "execution_count": 17,
      "metadata": {
        "colab": {
          "base_uri": "https://localhost:8080/"
        },
        "id": "DA4rLxVjS20_",
        "outputId": "29a7fd4c-3a92-4a40-e77d-e48abcca1652"
      },
      "outputs": [
        {
          "output_type": "stream",
          "name": "stdout",
          "text": [
            "['bmw', 'benz', 'audi', 'honda', 'hyundai']\n",
            "['bmw', 'benz', 'audi', 'honda', 'hyundai', 'maruti']\n",
            "['bmw', 'benz', 'audi', 'suzuki', 'honda', 'hyundai', 'maruti']\n",
            "suzuki\n",
            "['bmw', 'benz', 'audi', 'suzuki', 'honda', 'hyundai']\n",
            "['bmw', 'benz', 'suzuki', 'honda', 'hyundai']\n",
            "5\n"
          ]
        }
      ],
      "source": [
        "cars = [\"bmw\",\"benz\",\"audi\",\"honda\",\"hyundai\"]\n",
        "print(cars)\n",
        "cars.append(\"maruti\")\n",
        "print(cars)\n",
        "cars.insert(3,\"suzuki\")\n",
        "print(cars)\n",
        "print(cars[-4])\n",
        "cars.pop()\n",
        "print(cars)\n",
        "cars.remove(\"audi\")\n",
        "print(cars)\n",
        "print(len(cars))\n",
        "\n",
        "\n"
      ]
    },
    {
      "cell_type": "code",
      "source": [
        ""
      ],
      "metadata": {
        "id": "y7zDPlmEZeWN"
      },
      "execution_count": null,
      "outputs": []
    }
  ]
}