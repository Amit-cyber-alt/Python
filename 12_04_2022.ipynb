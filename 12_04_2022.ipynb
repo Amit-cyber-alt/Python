{
  "nbformat": 4,
  "nbformat_minor": 0,
  "metadata": {
    "colab": {
      "name": "12/04/2022",
      "provenance": [],
      "collapsed_sections": [],
      "authorship_tag": "ABX9TyMAu1Nm1nfjD4do55CNYfOK",
      "include_colab_link": true
    },
    "kernelspec": {
      "name": "python3",
      "display_name": "Python 3"
    },
    "language_info": {
      "name": "python"
    }
  },
  "cells": [
    {
      "cell_type": "markdown",
      "metadata": {
        "id": "view-in-github",
        "colab_type": "text"
      },
      "source": [
        "<a href=\"https://colab.research.google.com/github/Amit-cyber-alt/Python/blob/main/12_04_2022.ipynb\" target=\"_parent\"><img src=\"https://colab.research.google.com/assets/colab-badge.svg\" alt=\"Open In Colab\"/></a>"
      ]
    },
    {
      "cell_type": "code",
      "execution_count": 2,
      "metadata": {
        "colab": {
          "base_uri": "https://localhost:8080/"
        },
        "id": "3nCpaKVaPzc2",
        "outputId": "967c5dc6-8963-4f24-e72f-fc3d49c2b4d9"
      },
      "outputs": [
        {
          "output_type": "stream",
          "name": "stdout",
          "text": [
            "Enter lower range: 1\n",
            "Enter upper range: 21\n",
            "2\n",
            "3\n",
            "5\n",
            "7\n",
            "11\n",
            "13\n",
            "17\n",
            "19\n"
          ]
        }
      ],
      "source": [
        "x  = int(input(\"Enter lower range: \"))\n",
        "y = int(input(\"Enter upper range: \"))\n",
        "\n",
        "for num in range(x, y + 1):\n",
        "   if num > 1:\n",
        "       for i in range(2, num):\n",
        "           if (num % i) == 0:\n",
        "               break\n",
        "       else:\n",
        "           print(num)\n",
        "\n"
      ]
    },
    {
      "cell_type": "code",
      "source": [
        "num = int(input(\"Enter number: \"))\n",
        "x = int(input(\"Enter range: \"))\n",
        "for i in range(1,x+1):\n",
        "  print(num, 'x', i, '=', num*i)"
      ],
      "metadata": {
        "colab": {
          "base_uri": "https://localhost:8080/"
        },
        "id": "ceaqmEf0Zx_8",
        "outputId": "b60fbf0f-767b-4adf-d583-0076ef1ba416"
      },
      "execution_count": 3,
      "outputs": [
        {
          "output_type": "stream",
          "name": "stdout",
          "text": [
            "Enter number: 15\n",
            "Enter range: 15\n",
            "15 x 1 = 15\n",
            "15 x 2 = 30\n",
            "15 x 3 = 45\n",
            "15 x 4 = 60\n",
            "15 x 5 = 75\n",
            "15 x 6 = 90\n",
            "15 x 7 = 105\n",
            "15 x 8 = 120\n",
            "15 x 9 = 135\n",
            "15 x 10 = 150\n",
            "15 x 11 = 165\n",
            "15 x 12 = 180\n",
            "15 x 13 = 195\n",
            "15 x 14 = 210\n",
            "15 x 15 = 225\n"
          ]
        }
      ]
    },
    {
      "cell_type": "code",
      "source": [
        "n = int(input())\n",
        "sum = 0\n",
        "for i in range(1, n+1):\n",
        "  sum += i\n",
        "print(sum)"
      ],
      "metadata": {
        "colab": {
          "base_uri": "https://localhost:8080/"
        },
        "id": "Y7VjskJHa1iW",
        "outputId": "c4052f70-9f0e-4c1b-b42f-8dcdf0b0faaa"
      },
      "execution_count": 6,
      "outputs": [
        {
          "output_type": "stream",
          "name": "stdout",
          "text": [
            "5\n",
            "15\n"
          ]
        }
      ]
    }
  ]
}